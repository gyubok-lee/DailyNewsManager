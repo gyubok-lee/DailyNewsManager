{
 "cells": [
  {
   "cell_type": "markdown",
   "metadata": {},
   "source": [
    "## 학습 데이터 부족으로 실패\n",
    "### 학습 데이터가 충분하다면 나중에 다시 시도할만함"
   ]
  },
  {
   "cell_type": "code",
   "execution_count": 1,
   "metadata": {},
   "outputs": [],
   "source": [
    "import numpy as np\n",
    "import pandas as pd\n",
    "import re\n",
    "import matplotlib.pyplot as plt\n",
    "from nltk.corpus import stopwords\n",
    "from bs4 import BeautifulSoup \n",
    "from tensorflow.keras.preprocessing.text import Tokenizer \n",
    "from tensorflow.keras.preprocessing.sequence import pad_sequences\n",
    "import urllib.request\n",
    "np.random.seed(seed=0)"
   ]
  },
  {
   "cell_type": "code",
   "execution_count": 2,
   "metadata": {},
   "outputs": [
    {
     "name": "stdout",
     "output_type": "stream",
     "text": [
      "----------뉴스 기사 스크랩을 실행합니다----------\n",
      "\n",
      "정치 뉴스 기사 크롤링 완료\n",
      "경제 뉴스 기사 크롤링 완료\n",
      "사회 뉴스 기사 크롤링 완료\n",
      "생활 뉴스 기사 크롤링 완료\n",
      "세계 뉴스 기사 크롤링 완료\n",
      "과학 뉴스 기사 크롤링 완료\n"
     ]
    }
   ],
   "source": [
    "import scraper \n",
    "\n",
    "scraps = scraper.news_scraper()\n",
    "news_list = scraps.start()"
   ]
  },
  {
   "cell_type": "code",
   "execution_count": 3,
   "metadata": {},
   "outputs": [
    {
     "data": {
      "text/html": [
       "<div>\n",
       "<style scoped>\n",
       "    .dataframe tbody tr th:only-of-type {\n",
       "        vertical-align: middle;\n",
       "    }\n",
       "\n",
       "    .dataframe tbody tr th {\n",
       "        vertical-align: top;\n",
       "    }\n",
       "\n",
       "    .dataframe thead th {\n",
       "        text-align: right;\n",
       "    }\n",
       "</style>\n",
       "<table border=\"1\" class=\"dataframe\">\n",
       "  <thead>\n",
       "    <tr style=\"text-align: right;\">\n",
       "      <th></th>\n",
       "      <th>title</th>\n",
       "      <th>contents</th>\n",
       "      <th>분야</th>\n",
       "    </tr>\n",
       "  </thead>\n",
       "  <tbody>\n",
       "    <tr>\n",
       "      <th>0</th>\n",
       "      <td>'위안부 다큐' 英감독 \"더 많이 알려져야 하는 보편적 문제\"</td>\n",
       "      <td>기사내용 요약'이용수 할머니 밀착취재 다큐' 낸시 로버츠 英감독이 할머니 \"위안부 ...</td>\n",
       "      <td>정치</td>\n",
       "    </tr>\n",
       "    <tr>\n",
       "      <th>1</th>\n",
       "      <td>“조국·이재명 가족이라면?”…이재명 ‘김건희 무혐의’ 비판 댓글 공유</td>\n",
       "      <td>이재명 더불어민주당 대선후보가 6일 서울 여의도 더불어민주당 당사에서 열린 소상공인...</td>\n",
       "      <td>정치</td>\n",
       "    </tr>\n",
       "    <tr>\n",
       "      <th>2</th>\n",
       "      <td>닻 올린 '김종인 원톱' 선대위…\"민생·정의 회복\"</td>\n",
       "      <td>'윤석열 선대위'의 키를 거머쥔 김종인 위원장, 한층 '독해진' 어조로 문재인 정부...</td>\n",
       "      <td>정치</td>\n",
       "    </tr>\n",
       "    <tr>\n",
       "      <th>3</th>\n",
       "      <td>민주, 개발이익환수법 당론 채택…이재명 \"169석 힘 보여달라\" 편지</td>\n",
       "      <td>민주당이 정책 의원총회를 열어 개발이익환수법을 당론으로 추진하기로 했습니다. 대장동...</td>\n",
       "      <td>정치</td>\n",
       "    </tr>\n",
       "    <tr>\n",
       "      <th>4</th>\n",
       "      <td>김병준 \"자유·민주 죽인 文, 더 한 이재명 막아야…그 국가주의·포퓰리즘 끝은 파멸\"</td>\n",
       "      <td>국힘 선대위 출범식서 연설 \"시장·개인자유 확대 '자유주의 철학'이 사회 문제 해법...</td>\n",
       "      <td>정치</td>\n",
       "    </tr>\n",
       "    <tr>\n",
       "      <th>...</th>\n",
       "      <td>...</td>\n",
       "      <td>...</td>\n",
       "      <td>...</td>\n",
       "    </tr>\n",
       "    <tr>\n",
       "      <th>15</th>\n",
       "      <td>임혜숙 장관, OECD 회원국에 '과학기술 기반 미래예측' 제안</td>\n",
       "      <td>임혜숙 과학기술정보통신부 장관이 6일 OECD 과학기술정책위원회 콘퍼런스 고위급회담...</td>\n",
       "      <td>과학</td>\n",
       "    </tr>\n",
       "    <tr>\n",
       "      <th>16</th>\n",
       "      <td>“초봉 6500만원 준다고 하니…우르르” 난리난 ‘이곳’</td>\n",
       "      <td>김용현 당근마켓 공동대표이런 상황에서 ‘업계 최고 대우’를 내건 당근마켓이 승부수는...</td>\n",
       "      <td>과학</td>\n",
       "    </tr>\n",
       "    <tr>\n",
       "      <th>17</th>\n",
       "      <td>임혜숙 장관, “미래 예측을 통한 국가·사회 문제해결” 강조</td>\n",
       "      <td>OECD 과학기술정책위원회 컨퍼런스 고위급 회담 참가임혜숙 과학기술정보통신부 장관이...</td>\n",
       "      <td>과학</td>\n",
       "    </tr>\n",
       "    <tr>\n",
       "      <th>18</th>\n",
       "      <td>임혜숙 과기장관, OECD 컨퍼런스서 포용적 기술전환 방안 제시</td>\n",
       "      <td>기사내용 요약과기장관, 'OECD 과학기술정책위원회 컨퍼런스' 온라인 참석\"미래 예...</td>\n",
       "      <td>과학</td>\n",
       "    </tr>\n",
       "    <tr>\n",
       "      <th>19</th>\n",
       "      <td>임혜숙 장관 \"포용적 기술 전환, 과학기술 기반의 미래 예측이 필수적\"</td>\n",
       "      <td>OECD 과학기술정책위서 포용적 기술 전환 방안 제시임혜숙 과학기술정보통신부 장관이...</td>\n",
       "      <td>과학</td>\n",
       "    </tr>\n",
       "  </tbody>\n",
       "</table>\n",
       "<p>115 rows × 3 columns</p>\n",
       "</div>"
      ],
      "text/plain": [
       "                                              title  \\\n",
       "0                '위안부 다큐' 英감독 \"더 많이 알려져야 하는 보편적 문제\"   \n",
       "1            “조국·이재명 가족이라면?”…이재명 ‘김건희 무혐의’ 비판 댓글 공유   \n",
       "2                      닻 올린 '김종인 원톱' 선대위…\"민생·정의 회복\"   \n",
       "3            민주, 개발이익환수법 당론 채택…이재명 \"169석 힘 보여달라\" 편지   \n",
       "4   김병준 \"자유·민주 죽인 文, 더 한 이재명 막아야…그 국가주의·포퓰리즘 끝은 파멸\"   \n",
       "..                                              ...   \n",
       "15              임혜숙 장관, OECD 회원국에 '과학기술 기반 미래예측' 제안   \n",
       "16                  “초봉 6500만원 준다고 하니…우르르” 난리난 ‘이곳’   \n",
       "17                임혜숙 장관, “미래 예측을 통한 국가·사회 문제해결” 강조   \n",
       "18              임혜숙 과기장관, OECD 컨퍼런스서 포용적 기술전환 방안 제시   \n",
       "19          임혜숙 장관 \"포용적 기술 전환, 과학기술 기반의 미래 예측이 필수적\"   \n",
       "\n",
       "                                             contents  분야  \n",
       "0   기사내용 요약'이용수 할머니 밀착취재 다큐' 낸시 로버츠 英감독이 할머니 \"위안부 ...  정치  \n",
       "1   이재명 더불어민주당 대선후보가 6일 서울 여의도 더불어민주당 당사에서 열린 소상공인...  정치  \n",
       "2   '윤석열 선대위'의 키를 거머쥔 김종인 위원장, 한층 '독해진' 어조로 문재인 정부...  정치  \n",
       "3   민주당이 정책 의원총회를 열어 개발이익환수법을 당론으로 추진하기로 했습니다. 대장동...  정치  \n",
       "4   국힘 선대위 출범식서 연설 \"시장·개인자유 확대 '자유주의 철학'이 사회 문제 해법...  정치  \n",
       "..                                                ...  ..  \n",
       "15  임혜숙 과학기술정보통신부 장관이 6일 OECD 과학기술정책위원회 콘퍼런스 고위급회담...  과학  \n",
       "16  김용현 당근마켓 공동대표이런 상황에서 ‘업계 최고 대우’를 내건 당근마켓이 승부수는...  과학  \n",
       "17  OECD 과학기술정책위원회 컨퍼런스 고위급 회담 참가임혜숙 과학기술정보통신부 장관이...  과학  \n",
       "18  기사내용 요약과기장관, 'OECD 과학기술정책위원회 컨퍼런스' 온라인 참석\"미래 예...  과학  \n",
       "19  OECD 과학기술정책위서 포용적 기술 전환 방안 제시임혜숙 과학기술정보통신부 장관이...  과학  \n",
       "\n",
       "[115 rows x 3 columns]"
      ]
     },
     "execution_count": 3,
     "metadata": {},
     "output_type": "execute_result"
    }
   ],
   "source": [
    "df = news_list[0]\n",
    "df['분야'] = '정치'\n",
    "secs = ['정치','경제', '사회', '생활', '세계', '과학']\n",
    "for i in range(1,len(news_list)):\n",
    "    now = news_list[i]\n",
    "    now['분야'] = secs[i]\n",
    "    df = pd.concat([df,now], axis = 0)\n",
    "df\n",
    "    "
   ]
  },
  {
   "cell_type": "code",
   "execution_count": 51,
   "metadata": {},
   "outputs": [
    {
     "data": {
      "text/html": [
       "<div>\n",
       "<style scoped>\n",
       "    .dataframe tbody tr th:only-of-type {\n",
       "        vertical-align: middle;\n",
       "    }\n",
       "\n",
       "    .dataframe tbody tr th {\n",
       "        vertical-align: top;\n",
       "    }\n",
       "\n",
       "    .dataframe thead th {\n",
       "        text-align: right;\n",
       "    }\n",
       "</style>\n",
       "<table border=\"1\" class=\"dataframe\">\n",
       "  <thead>\n",
       "    <tr style=\"text-align: right;\">\n",
       "      <th></th>\n",
       "      <th>title</th>\n",
       "      <th>contents</th>\n",
       "      <th>분야</th>\n",
       "      <th>decoder_input</th>\n",
       "      <th>decoder_target</th>\n",
       "    </tr>\n",
       "  </thead>\n",
       "  <tbody>\n",
       "    <tr>\n",
       "      <th>0</th>\n",
       "      <td>음압 병동 현장 점검 나선 이재명</td>\n",
       "      <td>인천 뉴스 1 국회 사 진취 재단 이재명 더불어 민주당 대선 후보 6일 오후 인천 ...</td>\n",
       "      <td>정치</td>\n",
       "      <td>sostoken 음압 병동 현장 점검 나선 이재명</td>\n",
       "      <td>음압 병동 현장 점검 나선 이재명 eostoken</td>\n",
       "    </tr>\n",
       "    <tr>\n",
       "      <th>1</th>\n",
       "      <td>이재명 인천 의료 원 음압 병동 방문</td>\n",
       "      <td>인천 뉴스 1 국회 사 진취 재단 이재명 더불어 민주당 대선 후보 6일 오후 인천 ...</td>\n",
       "      <td>정치</td>\n",
       "      <td>sostoken 이재명 인천 의료 원 음압 병동 방문</td>\n",
       "      <td>이재명 인천 의료 원 음압 병동 방문 eostoken</td>\n",
       "    </tr>\n",
       "    <tr>\n",
       "      <th>2</th>\n",
       "      <td>의료 진 격려 하는 이재명</td>\n",
       "      <td>인천 뉴스 1 국회 사 진취 재단 이재명 더불어 민주당 대선 후보 6일 오후 인천 ...</td>\n",
       "      <td>정치</td>\n",
       "      <td>sostoken 의료 진 격려 하는 이재명</td>\n",
       "      <td>의료 진 격려 하는 이재명 eostoken</td>\n",
       "    </tr>\n",
       "    <tr>\n",
       "      <th>3</th>\n",
       "      <td>인천 의료 원 음압 병동 방문 이재명 대선 후보</td>\n",
       "      <td>인천 뉴스 1 국회 사 진취 재단 이재명 더불어 민주당 대선 후보 6일 오후 인천 ...</td>\n",
       "      <td>정치</td>\n",
       "      <td>sostoken 인천 의료 원 음압 병동 방문 이재명 대선 후보</td>\n",
       "      <td>인천 의료 원 음압 병동 방문 이재명 대선 후보 eostoken</td>\n",
       "    </tr>\n",
       "    <tr>\n",
       "      <th>4</th>\n",
       "      <td>인천 의료 원 찾은 이재명 지지자 들 함께</td>\n",
       "      <td>인천 뉴스 1 국회 사 진취 재단 이재명 더불어 민주당 대선 후보 6일 오후 인천 ...</td>\n",
       "      <td>정치</td>\n",
       "      <td>sostoken 인천 의료 원 찾은 이재명 지지자 들 함께</td>\n",
       "      <td>인천 의료 원 찾은 이재명 지지자 들 함께 eostoken</td>\n",
       "    </tr>\n",
       "    <tr>\n",
       "      <th>...</th>\n",
       "      <td>...</td>\n",
       "      <td>...</td>\n",
       "      <td>...</td>\n",
       "      <td>...</td>\n",
       "      <td>...</td>\n",
       "    </tr>\n",
       "    <tr>\n",
       "      <th>10</th>\n",
       "      <td>카카오 렌터카 연합 회 맞 손 이 달 중 렌터카 서비스 시작</td>\n",
       "      <td>박주연 기자 카카오 모빌리티 중소 렌터카 사업자 들 손잡고 이 달 중 카카오 렌터카...</td>\n",
       "      <td>과학</td>\n",
       "      <td>sostoken 카카오 렌터카 연합 회 맞 손 이 달 중 렌터카 서비스 시작</td>\n",
       "      <td>카카오 렌터카 연합 회 맞 손 이 달 중 렌터카 서비스 시작 eostoken</td>\n",
       "    </tr>\n",
       "    <tr>\n",
       "      <th>11</th>\n",
       "      <td>한미 약품 신약 2 개 美 FDA 승인 기대</td>\n",
       "      <td>대한민국 바이오 투자 콘퍼런스 국내 제약 바이오 업체 총 출동 2021 대한민국 바...</td>\n",
       "      <td>과학</td>\n",
       "      <td>sostoken 한미 약품 신약 2 개 美 FDA 승인 기대</td>\n",
       "      <td>한미 약품 신약 2 개 美 FDA 승인 기대 eostoken</td>\n",
       "    </tr>\n",
       "    <tr>\n",
       "      <th>12</th>\n",
       "      <td>방심위 ‘ 아이돌 학교 과징금 철퇴 ‘ 김어준 뉴스 공장 은 권고</td>\n",
       "      <td>방송통신 심의 위원회 전체 회의 전경 방심위 제공 방송통신 심의 위원회 6일 서울 ...</td>\n",
       "      <td>과학</td>\n",
       "      <td>sostoken 방심위 ‘ 아이돌 학교 과징금 철퇴 ‘ 김어준 뉴스 공장 은 권고</td>\n",
       "      <td>방심위 ‘ 아이돌 학교 과징금 철퇴 ‘ 김어준 뉴스 공장 은 권고 eostoken</td>\n",
       "    </tr>\n",
       "    <tr>\n",
       "      <th>13</th>\n",
       "      <td>네이버 클라우드 게임 리포트 日 서비스 돌입</td>\n",
       "      <td>관련 이미지 네이버 클라우드 제공 네이버 클라우드 게임 분석 솔루션 일본 진출 한다...</td>\n",
       "      <td>과학</td>\n",
       "      <td>sostoken 네이버 클라우드 게임 리포트 日 서비스 돌입</td>\n",
       "      <td>네이버 클라우드 게임 리포트 日 서비스 돌입 eostoken</td>\n",
       "    </tr>\n",
       "    <tr>\n",
       "      <th>14</th>\n",
       "      <td>알테오 젠 무역 날 2000만 불 수출 탑 수상</td>\n",
       "      <td>기술 수출 액   2000만 달라  돌파 해 알테오 젠 올해 2200만달러 이상 기...</td>\n",
       "      <td>과학</td>\n",
       "      <td>sostoken 알테오 젠 무역 날 2000만 불 수출 탑 수상</td>\n",
       "      <td>알테오 젠 무역 날 2000만 불 수출 탑 수상 eostoken</td>\n",
       "    </tr>\n",
       "  </tbody>\n",
       "</table>\n",
       "<p>98 rows × 5 columns</p>\n",
       "</div>"
      ],
      "text/plain": [
       "                                   title  \\\n",
       "0                     음압 병동 현장 점검 나선 이재명   \n",
       "1                   이재명 인천 의료 원 음압 병동 방문   \n",
       "2                         의료 진 격려 하는 이재명   \n",
       "3             인천 의료 원 음압 병동 방문 이재명 대선 후보   \n",
       "4                인천 의료 원 찾은 이재명 지지자 들 함께   \n",
       "..                                   ...   \n",
       "10     카카오 렌터카 연합 회 맞 손 이 달 중 렌터카 서비스 시작   \n",
       "11              한미 약품 신약 2 개 美 FDA 승인 기대   \n",
       "12  방심위 ‘ 아이돌 학교 과징금 철퇴 ‘ 김어준 뉴스 공장 은 권고   \n",
       "13              네이버 클라우드 게임 리포트 日 서비스 돌입   \n",
       "14            알테오 젠 무역 날 2000만 불 수출 탑 수상   \n",
       "\n",
       "                                             contents  분야  \\\n",
       "0   인천 뉴스 1 국회 사 진취 재단 이재명 더불어 민주당 대선 후보 6일 오후 인천 ...  정치   \n",
       "1   인천 뉴스 1 국회 사 진취 재단 이재명 더불어 민주당 대선 후보 6일 오후 인천 ...  정치   \n",
       "2   인천 뉴스 1 국회 사 진취 재단 이재명 더불어 민주당 대선 후보 6일 오후 인천 ...  정치   \n",
       "3   인천 뉴스 1 국회 사 진취 재단 이재명 더불어 민주당 대선 후보 6일 오후 인천 ...  정치   \n",
       "4   인천 뉴스 1 국회 사 진취 재단 이재명 더불어 민주당 대선 후보 6일 오후 인천 ...  정치   \n",
       "..                                                ...  ..   \n",
       "10  박주연 기자 카카오 모빌리티 중소 렌터카 사업자 들 손잡고 이 달 중 카카오 렌터카...  과학   \n",
       "11  대한민국 바이오 투자 콘퍼런스 국내 제약 바이오 업체 총 출동 2021 대한민국 바...  과학   \n",
       "12  방송통신 심의 위원회 전체 회의 전경 방심위 제공 방송통신 심의 위원회 6일 서울 ...  과학   \n",
       "13  관련 이미지 네이버 클라우드 제공 네이버 클라우드 게임 분석 솔루션 일본 진출 한다...  과학   \n",
       "14  기술 수출 액   2000만 달라  돌파 해 알테오 젠 올해 2200만달러 이상 기...  과학   \n",
       "\n",
       "                                    decoder_input  \\\n",
       "0                     sostoken 음압 병동 현장 점검 나선 이재명   \n",
       "1                   sostoken 이재명 인천 의료 원 음압 병동 방문   \n",
       "2                         sostoken 의료 진 격려 하는 이재명   \n",
       "3             sostoken 인천 의료 원 음압 병동 방문 이재명 대선 후보   \n",
       "4                sostoken 인천 의료 원 찾은 이재명 지지자 들 함께   \n",
       "..                                            ...   \n",
       "10     sostoken 카카오 렌터카 연합 회 맞 손 이 달 중 렌터카 서비스 시작   \n",
       "11              sostoken 한미 약품 신약 2 개 美 FDA 승인 기대   \n",
       "12  sostoken 방심위 ‘ 아이돌 학교 과징금 철퇴 ‘ 김어준 뉴스 공장 은 권고   \n",
       "13              sostoken 네이버 클라우드 게임 리포트 日 서비스 돌입   \n",
       "14            sostoken 알테오 젠 무역 날 2000만 불 수출 탑 수상   \n",
       "\n",
       "                                   decoder_target  \n",
       "0                     음압 병동 현장 점검 나선 이재명 eostoken  \n",
       "1                   이재명 인천 의료 원 음압 병동 방문 eostoken  \n",
       "2                         의료 진 격려 하는 이재명 eostoken  \n",
       "3             인천 의료 원 음압 병동 방문 이재명 대선 후보 eostoken  \n",
       "4                인천 의료 원 찾은 이재명 지지자 들 함께 eostoken  \n",
       "..                                            ...  \n",
       "10     카카오 렌터카 연합 회 맞 손 이 달 중 렌터카 서비스 시작 eostoken  \n",
       "11              한미 약품 신약 2 개 美 FDA 승인 기대 eostoken  \n",
       "12  방심위 ‘ 아이돌 학교 과징금 철퇴 ‘ 김어준 뉴스 공장 은 권고 eostoken  \n",
       "13              네이버 클라우드 게임 리포트 日 서비스 돌입 eostoken  \n",
       "14            알테오 젠 무역 날 2000만 불 수출 탑 수상 eostoken  \n",
       "\n",
       "[98 rows x 5 columns]"
      ]
     },
     "execution_count": 51,
     "metadata": {},
     "output_type": "execute_result"
    }
   ],
   "source": [
    "import konlpy\n",
    "from konlpy.tag import Okt\n",
    "\n",
    "okt = Okt()\n",
    "\n",
    "def cleansing(x):\n",
    "    tokens = okt.pos(x)\n",
    "    result = []\n",
    "    for i in tokens :\n",
    "        if (i[1] != 'Punctuation') and (i[1] != 'Josa') and(i[1]!= 'KoreanParticle'):\n",
    "            result.append(i[0])\n",
    "            \n",
    "    return ' '.join(result)\n",
    "\n",
    "df['title'] = df['title'].apply(lambda x : cleansing(x))\n",
    "df['contents'] = df['contents'].apply(lambda x : cleansing(x))\n",
    "\n",
    "df['decoder_input'] = df['title'].apply(lambda x : 'sostoken '+ x)\n",
    "df['decoder_target'] = df['title'].apply(lambda x : x + ' eostoken')\n",
    "\n",
    "\n",
    "df"
   ]
  },
  {
   "cell_type": "code",
   "execution_count": 84,
   "metadata": {},
   "outputs": [],
   "source": [
    "encoder_input = np.array(df['contents'])\n",
    "decoder_input = np.array(df['decoder_input'])\n",
    "decoder_target = np.array(df['decoder_target'])"
   ]
  },
  {
   "cell_type": "code",
   "execution_count": 85,
   "metadata": {},
   "outputs": [
    {
     "name": "stdout",
     "output_type": "stream",
     "text": [
      "[ 5 85 82 91 47 21 93 40 63 14 86 32 84 52 34  2 28 92 12 78 81 46 42 67\n",
      " 61 11 68 71 10 15 31 64 83 74  1  3 97 17 57 19  0  9 41 75 69 62 29 27\n",
      " 54 37 33 20 25 96 88 79 77 36  4 24 23 90 50 56 16 60 66  6 72 22  7 76\n",
      "  8 39 38 89 13 44 73 49 94 35 26 80 59 48 95 70 65 87 45 18 55 43 58 53\n",
      " 30 51]\n"
     ]
    }
   ],
   "source": [
    "indices = np.arange(encoder_input.shape[0])\n",
    "np.random.shuffle(indices)\n",
    "print(indices)"
   ]
  },
  {
   "cell_type": "code",
   "execution_count": 125,
   "metadata": {},
   "outputs": [],
   "source": [
    "encoder_input = encoder_input[indices]\n",
    "decoder_input = decoder_input[indices]\n",
    "decoder_target = decoder_target[indices]"
   ]
  },
  {
   "cell_type": "code",
   "execution_count": 126,
   "metadata": {},
   "outputs": [
    {
     "name": "stdout",
     "output_type": "stream",
     "text": [
      "테스트 데이터의 수 : 2\n"
     ]
    }
   ],
   "source": [
    "n_of_val = 2 #int(len(encoder_input)*0.2)\n",
    "print('테스트 데이터의 수 :',n_of_val)"
   ]
  },
  {
   "cell_type": "code",
   "execution_count": 127,
   "metadata": {},
   "outputs": [],
   "source": [
    "encoder_input_train = encoder_input[:-n_of_val]\n",
    "decoder_input_train = decoder_input[:-n_of_val]\n",
    "decoder_target_train = decoder_target[:-n_of_val]\n",
    "\n",
    "encoder_input_test = encoder_input[-n_of_val:]\n",
    "decoder_input_test = decoder_input[-n_of_val:]\n",
    "decoder_target_test = decoder_target[-n_of_val:]"
   ]
  },
  {
   "cell_type": "code",
   "execution_count": 128,
   "metadata": {},
   "outputs": [
    {
     "name": "stdout",
     "output_type": "stream",
     "text": [
      "훈련 데이터의 개수 : 96\n",
      "훈련 레이블의 개수 : 96\n",
      "테스트 데이터의 개수 : 2\n",
      "테스트 레이블의 개수 : 2\n"
     ]
    }
   ],
   "source": [
    "print('훈련 데이터의 개수 :', len(encoder_input_train))\n",
    "print('훈련 레이블의 개수 :',len(decoder_input_train))\n",
    "print('테스트 데이터의 개수 :',len(encoder_input_test))\n",
    "print('테스트 레이블의 개수 :',len(decoder_input_test))"
   ]
  },
  {
   "cell_type": "code",
   "execution_count": 129,
   "metadata": {},
   "outputs": [],
   "source": [
    "src_tokenizer = Tokenizer()\n",
    "src_tokenizer.fit_on_texts(encoder_input)"
   ]
  },
  {
   "cell_type": "code",
   "execution_count": 130,
   "metadata": {},
   "outputs": [
    {
     "name": "stdout",
     "output_type": "stream",
     "text": [
      "단어 집합(vocabulary)의 크기 : 6932\n",
      "등장 빈도가 1번 이하인 희귀 단어의 수: 3412\n",
      "단어 집합에서 희귀 단어를 제외시킬 경우의 단어 집합의 크기 3520\n",
      "단어 집합에서 희귀 단어의 비율: 49.221004039238316\n",
      "전체 등장 빈도에서 희귀 단어 등장 빈도 비율: 11.616901024820402\n"
     ]
    }
   ],
   "source": [
    "threshold = 2\n",
    "total_cnt = len(src_tokenizer.word_index) # 단어의 수\n",
    "rare_cnt = 0 # 등장 빈도수가 threshold보다 작은 단어의 개수를 카운트\n",
    "total_freq = 0 # 훈련 데이터의 전체 단어 빈도수 총 합\n",
    "rare_freq = 0 # 등장 빈도수가 threshold보다 작은 단어의 등장 빈도수의 총 합\n",
    "\n",
    "# 단어와 빈도수의 쌍(pair)을 key와 value로 받는다.\n",
    "for key, value in src_tokenizer.word_counts.items():\n",
    "    total_freq = total_freq + value\n",
    "\n",
    "    # 단어의 등장 빈도수가 threshold보다 작으면\n",
    "    if(value < threshold):\n",
    "        rare_cnt = rare_cnt + 1\n",
    "        rare_freq = rare_freq + value\n",
    "\n",
    "print('단어 집합(vocabulary)의 크기 :',total_cnt)\n",
    "print('등장 빈도가 %s번 이하인 희귀 단어의 수: %s'%(threshold - 1, rare_cnt))\n",
    "print('단어 집합에서 희귀 단어를 제외시킬 경우의 단어 집합의 크기 %s'%(total_cnt - rare_cnt))\n",
    "print(\"단어 집합에서 희귀 단어의 비율:\", (rare_cnt / total_cnt)*100)\n",
    "print(\"전체 등장 빈도에서 희귀 단어 등장 빈도 비율:\", (rare_freq / total_freq)*100)"
   ]
  },
  {
   "cell_type": "code",
   "execution_count": 131,
   "metadata": {},
   "outputs": [],
   "source": [
    "src_vocab = 6000\n",
    "src_tokenizer = Tokenizer(num_words = src_vocab) \n",
    "src_tokenizer.fit_on_texts(encoder_input)\n",
    "\n",
    "# 텍스트 시퀀스를 정수 시퀀스로 변환\n",
    "encoder_input_train = src_tokenizer.texts_to_sequences(encoder_input_train) \n",
    "encoder_input_test = src_tokenizer.texts_to_sequences(encoder_input_test)"
   ]
  },
  {
   "cell_type": "code",
   "execution_count": 132,
   "metadata": {},
   "outputs": [
    {
     "name": "stdout",
     "output_type": "stream",
     "text": [
      "[[2, 125, 64, 2217, 392, 3, 677, 2, 430, 1299, 1300, 2218, 3, 1660, 274, 1301, 1302, 235, 918, 919, 2219, 531, 1302, 235, 64, 1080, 483, 1081, 50, 56, 32, 920, 169, 431, 125, 64, 35, 678, 532, 1661, 320, 678, 532, 796, 74, 192, 354, 921, 104, 1303, 321, 6, 20, 922, 50, 56, 32, 920, 295, 2, 74, 192, 354, 25, 1082, 1304, 64, 182, 12, 533, 322, 3, 51, 679, 432, 4, 220, 1662, 139, 50, 56, 32, 125, 64, 2220, 61, 7, 236, 392, 432, 235, 296, 295, 2, 2221, 221, 170, 1663, 237, 140, 50, 56, 32, 125, 64, 107, 14, 183, 1664, 104, 2222, 50, 56, 32, 140, 680, 681, 21, 64, 171, 2223, 97, 74, 192, 5, 393, 6, 3, 33, 432, 235, 296, 5, 113, 50, 56, 32, 923, 169, 431, 125, 64, 35, 678, 532, 1305, 79, 532, 133, 74, 192, 354, 921, 104, 1083, 1084, 6, 484, 50, 56, 32, 1665, 2224, 184, 2, 50, 56, 32, 678, 532, 79, 74, 192, 354, 64, 171, 534, 2225, 104, 1085, 605, 6, 1666, 3, 18, 2, 4, 107, 14, 4, 57, 206, 2226, 74, 8, 104, 2227, 355, 356, 3, 21, 1, 4, 69, 74, 8, 104, 2228, 97, 1306, 394, 222, 50, 56, 32, 86, 2229, 2230, 682, 2231, 126, 1, 1307, 2, 183, 1308, 3, 2232, 2, 74, 192, 3, 235, 296, 797, 2, 50, 56, 32, 140, 74, 192, 104, 1083, 1084, 1309, 39, 798, 12, 533, 11, 3, 51, 679, 1310, 1311, 237, 207, 50, 56, 32, 125, 64, 35, 183, 2233, 2234, 104, 169, 431, 1086, 79, 799, 2235, 355, 1309, 74, 192, 800, 64, 171, 534, 5, 393, 1667, 164, 1311, 207, 169, 431, 1087, 2236, 2, 50, 56, 32, 924, 275, 48, 237, 183, 1668, 125, 64, 94, 323, 208, 254, 683, 70, 3, 18, 2, 1312, 6, 237, 98, 134, 1088, 10, 357, 172, 8, 2237, 3, 13, 70, 50, 56, 32, 140, 918, 919, 2238, 1089, 183, 1090, 39, 801, 2, 1089, 2239, 7, 2240, 395, 52, 2241, 2242, 67, 324, 134, 10, 6, 3, 4, 141, 2, 125, 183, 2243, 126, 114, 237, 4, 2244, 1313, 14, 2245, 2246, 925, 6, 2247, 2248, 3, 13, 2249, 1, 237, 4, 50, 56, 32, 125, 64, 35, 183, 2250, 104, 485, 105, 165, 50, 56, 32, 140, 1090, 64, 926, 94, 323, 1669, 297, 69, 1670, 2251, 173, 927, 50, 56, 32, 140, 125, 64, 926, 94, 323, 802, 1091, 2252, 797, 1092, 535, 928, 1314, 2253, 297, 2254, 2255, 164, 50, 56, 32, 923, 2, 1314, 183, 2256, 1315, 170, 1671, 433, 170, 48, 323, 298, 114, 68, 3, 51, 104, 2257, 434, 222, 235, 296, 797, 2, 2258, 170, 237, 4, 183, 1308, 1316, 173, 1315, 170, 5, 48, 2259, 2260, 323, 298, 12, 67, 2261, 3, 51, 299, 1093, 50, 56, 32, 920, 295, 125, 74, 192, 5, 929, 1304, 64, 182, 12, 533, 2262, 606, 2263, 68, 435, 607, 235, 358, 9, 64, 926, 94, 323, 208, 1317, 355, 50, 56, 32, 140, 125, 64, 930, 12, 67, 684, 299, 1, 2264, 58, 2265, 359, 235, 2266, 51, 2, 50, 56, 32, 140, 74, 192, 5, 536, 64, 171, 534, 396, 6, 608, 125, 64, 930, 12, 67, 2267, 1094, 6, 1672, 3, 18, 2, 50, 685, 430, 686, 5, 1673, 114, 50, 56, 32, 140, 125, 64, 397, 2268, 1300, 1318, 6, 1095, 3, 13, 360, 1, 361, 30, 687, 2269, 1674, 2270, 50, 685, 430, 50, 56, 32, 125, 64, 397, 79, 2271, 1675, 2272, 4, 57, 50, 685, 2273, 2274, 688, 193, 687, 325, 436, 114, 115, 537, 127, 1299, 171, 30, 1319, 108, 23, 99, 50, 685, 255, 1320, 209, 326, 803, 1096, 2275, 209, 326, 803, 98, 255, 1320, 1306, 394, 222, 86, 1097, 804, 609, 31, 223, 26, 437, 100], [], [55, 1676, 2276, 1677, 2277, 1321, 194, 538, 1678, 610, 1322, 2278, 3521, 80, 2279, 2280, 1323, 151, 539, 256, 17, 3522, 327, 1679, 135, 1676, 2276, 1677, 931, 1324, 2281, 538, 109, 2282, 3523, 1323, 2283, 538, 610, 1678, 1322, 2284, 3524, 610, 3525, 1322, 2285, 80, 3526, 3527, 3528, 2286, 2283, 3529, 2287, 76, 438, 1325, 40, 151, 276, 174, 1098, 3530, 76, 2288, 539, 2289, 1680, 3531, 1326, 174, 109, 151, 40, 2290, 16, 438, 2291, 17, 1327, 2284, 3532, 135, 1328, 76, 438, 3533, 151, 135, 3534, 1681, 328, 362, 3535, 300, 40, 17, 1099, 109, 1100, 1682, 40, 1329, 195, 438, 1683, 3536, 3537, 238, 44, 3538, 2292, 151, 1325, 932, 438, 194, 1330, 40, 174, 3539, 1331, 1684, 151, 3540, 2293, 87, 398, 17, 1330, 40, 174, 2285, 109, 3541, 151, 539, 1325, 115, 399, 438, 2294, 3542, 363, 1100, 1682, 40, 175, 175, 438, 194, 2295, 300, 17, 151, 539, 135, 689, 1681, 276, 362, 17, 933, 1101, 17, 1099, 109, 1100, 151, 3543, 115, 438, 2296, 2297, 2286, 1102, 151, 135, 2298, 1681, 1325, 1103, 59, 438, 2299, 363, 1100, 1682, 40, 195, 16, 438, 194, 3544, 300, 3545, 362, 805, 3546, 3547, 194, 3548, 3549, 2300, 44, 2301, 3550, 2302, 2303, 2279, 2280, 3551, 3552, 610, 1102, 151, 135, 3553, 2304, 3554, 3555, 3556, 2305, 1098, 17, 1330, 40, 2306, 806, 3557, 300, 256, 174, 2307, 17, 2308, 1685, 3558, 610, 1322, 109, 151, 2309, 3559, 300, 256, 174, 80, 3560, 1678, 610, 109, 2310, 3561, 300, 3562, 1679, 362, 2311, 327, 17, 540, 3563, 3564, 690, 17, 1686, 3565, 806, 1679, 135, 1331, 1332, 931, 2277, 151, 1333, 805, 3566, 2311, 327, 1104, 1334, 2312, 44, 3567, 1687, 1688, 2, 151, 135, 1331, 1332, 276, 174, 2310, 194, 2313, 3568, 1689, 44, 1326, 174, 3, 329, 807, 3569, 3570, 691, 2314, 398, 3571, 3572, 1690, 2, 55, 3573, 87, 17, 3574, 1691, 3575, 17, 610, 1683, 44, 2281, 3576, 2, 538, 3577, 151, 135, 931, 1324, 2294, 808, 1334, 1333, 55, 3578, 3579, 87, 2299, 1100, 1692, 3, 2300, 44, 2302, 2303, 3580, 808, 1323, 1102, 151, 135, 76, 1693, 3581, 2305, 40, 931, 1332, 276, 174, 1098, 3582, 328, 362, 1335, 195, 300, 40, 540, 151, 135, 1676, 3583, 1677, 3584, 1324, 808, 1334, 3585, 804, 300, 40, 540, 151, 2315, 538, 362, 3586, 87, 2316, 40, 931, 1332, 3587, 1694, 17, 3588, 3589, 40, 3590, 610, 151, 3591, 175, 300, 40, 540, 151, 1689, 44, 538, 109, 2317, 175, 300, 809, 3592, 151, 3593, 3594, 3595, 539, 3596, 806, 3597, 3598, 1104, 3599, 276, 362, 55, 3600, 1101, 135, 1334, 44, 2318, 3601, 1695, 3602, 1680, 3603, 256, 3604, 327, 1104, 151, 327, 3605, 2, 1331, 1684, 1695, 2309, 276, 174, 1336, 931, 1324, 80, 3606, 3607, 934, 935, 3608, 3, 329, 2314, 807, 2, 17, 3609, 3610, 539, 3611, 135, 810, 2282, 1105, 80, 1323, 1696, 2312, 44, 2318, 1684, 1695, 1697, 3, 17, 2319, 40, 151, 3612, 3613, 3614, 1337, 174, 2, 1698, 2320, 1338, 935, 1104, 151, 276, 174, 1337, 174, 109, 151, 1696, 3615, 194, 1699, 932, 300, 3, 329, 55, 3616, 135, 55, 610, 1099, 2, 1336, 3617, 17, 2319, 40, 151, 811, 1339, 692, 328, 3618, 1689, 44, 151, 1102, 87, 17, 2321, 2313, 1105, 3]]\n"
     ]
    }
   ],
   "source": [
    "print(encoder_input_train[:3])"
   ]
  },
  {
   "cell_type": "code",
   "execution_count": 133,
   "metadata": {},
   "outputs": [],
   "source": [
    "tar_tokenizer = Tokenizer()\n",
    "tar_tokenizer.fit_on_texts(decoder_input)"
   ]
  },
  {
   "cell_type": "code",
   "execution_count": 134,
   "metadata": {},
   "outputs": [
    {
     "name": "stdout",
     "output_type": "stream",
     "text": [
      "단어 집합(vocabulary)의 크기 : 686\n",
      "등장 빈도가 1번 이하인 희귀 단어의 수: 521\n",
      "단어 집합에서 희귀 단어를 제외시킬 경우의 단어 집합의 크기 165\n",
      "단어 집합에서 희귀 단어의 비율: 75.94752186588921\n",
      "전체 등장 빈도에서 희귀 단어 등장 빈도 비율: 49.666348903717825\n"
     ]
    }
   ],
   "source": [
    "threshold = 2\n",
    "total_cnt = len(tar_tokenizer.word_index) # 단어의 수\n",
    "rare_cnt = 0 # 등장 빈도수가 threshold보다 작은 단어의 개수를 카운트\n",
    "total_freq = 0 # 훈련 데이터의 전체 단어 빈도수 총 합\n",
    "rare_freq = 0 # 등장 빈도수가 threshold보다 작은 단어의 등장 빈도수의 총 합\n",
    "\n",
    "# 단어와 빈도수의 쌍(pair)을 key와 value로 받는다.\n",
    "for key, value in tar_tokenizer.word_counts.items():\n",
    "    total_freq = total_freq + value\n",
    "\n",
    "    # 단어의 등장 빈도수가 threshold보다 작으면\n",
    "    if(value < threshold):\n",
    "        rare_cnt = rare_cnt + 1\n",
    "        rare_freq = rare_freq + value\n",
    "\n",
    "print('단어 집합(vocabulary)의 크기 :',total_cnt)\n",
    "print('등장 빈도가 %s번 이하인 희귀 단어의 수: %s'%(threshold - 1, rare_cnt))\n",
    "print('단어 집합에서 희귀 단어를 제외시킬 경우의 단어 집합의 크기 %s'%(total_cnt - rare_cnt))\n",
    "print(\"단어 집합에서 희귀 단어의 비율:\", (rare_cnt / total_cnt)*100)\n",
    "print(\"전체 등장 빈도에서 희귀 단어 등장 빈도 비율:\", (rare_freq / total_freq)*100)"
   ]
  },
  {
   "cell_type": "code",
   "execution_count": 135,
   "metadata": {},
   "outputs": [],
   "source": [
    "tar_vocab = 600\n",
    "tar_tokenizer = Tokenizer(num_words = tar_vocab) \n",
    "tar_tokenizer.fit_on_texts(decoder_input)\n",
    "tar_tokenizer.fit_on_texts(decoder_target)"
   ]
  },
  {
   "cell_type": "code",
   "execution_count": 136,
   "metadata": {},
   "outputs": [
    {
     "name": "stdout",
     "output_type": "stream",
     "text": [
      "[[1, 20, 3, 58, 59, 60, 61, 62, 63, 21, 3, 64, 65, 66], [1, 167, 67, 168, 169, 68, 170, 171], [1, 172, 173, 174, 175, 176, 177], [1, 178, 179, 69, 70, 180, 181, 182, 183, 71], [1, 184, 185, 186, 187, 188, 189, 190]]\n"
     ]
    }
   ],
   "source": [
    "decoder_input_train = tar_tokenizer.texts_to_sequences(decoder_input_train) \n",
    "decoder_target_train = tar_tokenizer.texts_to_sequences(decoder_target_train)\n",
    "decoder_input_test = tar_tokenizer.texts_to_sequences(decoder_input_test)\n",
    "decoder_target_test = tar_tokenizer.texts_to_sequences(decoder_target_test)\n",
    "print(decoder_input_train[:5])"
   ]
  },
  {
   "cell_type": "code",
   "execution_count": 137,
   "metadata": {},
   "outputs": [],
   "source": [
    "text_max_len = 50\n",
    "summary_max_len = 8\n",
    "\n",
    "encoder_input_train = pad_sequences(encoder_input_train, maxlen = text_max_len, padding='post')\n",
    "encoder_input_test = pad_sequences(encoder_input_test, maxlen = text_max_len, padding='post')\n",
    "decoder_input_train = pad_sequences(decoder_input_train, maxlen = summary_max_len, padding='post')\n",
    "decoder_target_train = pad_sequences(decoder_target_train, maxlen = summary_max_len, padding='post')\n",
    "decoder_input_test = pad_sequences(decoder_input_test, maxlen = summary_max_len, padding='post')\n",
    "decoder_target_test = pad_sequences(decoder_target_test, maxlen = summary_max_len, padding='post')"
   ]
  },
  {
   "cell_type": "code",
   "execution_count": 138,
   "metadata": {},
   "outputs": [],
   "source": [
    "from tensorflow.keras.layers import Input, LSTM, Embedding, Dense, Concatenate\n",
    "from tensorflow.keras.models import Model\n",
    "from tensorflow.keras.callbacks import EarlyStopping, ModelCheckpoint"
   ]
  },
  {
   "cell_type": "code",
   "execution_count": 139,
   "metadata": {},
   "outputs": [],
   "source": [
    "embedding_dim = 128\n",
    "hidden_size = 256\n",
    "\n",
    "# 인코더\n",
    "encoder_inputs = Input(shape=(text_max_len,))\n",
    "\n",
    "# 인코더의 임베딩 층\n",
    "enc_emb = Embedding(src_vocab, embedding_dim)(encoder_inputs)\n",
    "\n",
    "# 인코더의 LSTM 1\n",
    "encoder_lstm1 = LSTM(hidden_size, return_sequences=True, return_state=True ,dropout = 0.4, recurrent_dropout = 0.4)\n",
    "encoder_output1, state_h1, state_c1 = encoder_lstm1(enc_emb)\n",
    "\n",
    "# 인코더의 LSTM 2\n",
    "encoder_lstm2 = LSTM(hidden_size, return_sequences=True, return_state=True, dropout=0.4, recurrent_dropout=0.4)\n",
    "encoder_output2, state_h2, state_c2 = encoder_lstm2(encoder_output1)\n",
    "\n",
    "# 인코더의 LSTM 3\n",
    "encoder_lstm3 = LSTM(hidden_size, return_state=True, return_sequences=True, dropout=0.4, recurrent_dropout=0.4)\n",
    "encoder_outputs, state_h, state_c= encoder_lstm3(encoder_output2)"
   ]
  },
  {
   "cell_type": "code",
   "execution_count": 140,
   "metadata": {},
   "outputs": [],
   "source": [
    "# 디코더\n",
    "decoder_inputs = Input(shape=(None,))\n",
    "\n",
    "# 디코더의 임베딩 층\n",
    "dec_emb_layer = Embedding(tar_vocab, embedding_dim)\n",
    "dec_emb = dec_emb_layer(decoder_inputs)\n",
    "\n",
    "# 디코더의 LSTM\n",
    "decoder_lstm = LSTM(hidden_size, return_sequences = True, return_state = True, dropout = 0.4, recurrent_dropout=0.2)\n",
    "decoder_outputs, _, _ = decoder_lstm(dec_emb, initial_state = [state_h, state_c])"
   ]
  },
  {
   "cell_type": "code",
   "execution_count": 141,
   "metadata": {},
   "outputs": [
    {
     "name": "stdout",
     "output_type": "stream",
     "text": [
      "Model: \"model_12\"\n",
      "__________________________________________________________________________________________________\n",
      "Layer (type)                    Output Shape         Param #     Connected to                     \n",
      "==================================================================================================\n",
      "input_16 (InputLayer)           [(None, 50)]         0                                            \n",
      "__________________________________________________________________________________________________\n",
      "embedding_6 (Embedding)         (None, 50, 128)      768000      input_16[0][0]                   \n",
      "__________________________________________________________________________________________________\n",
      "lstm_12 (LSTM)                  [(None, 50, 256), (N 394240      embedding_6[0][0]                \n",
      "__________________________________________________________________________________________________\n",
      "input_17 (InputLayer)           [(None, None)]       0                                            \n",
      "__________________________________________________________________________________________________\n",
      "lstm_13 (LSTM)                  [(None, 50, 256), (N 525312      lstm_12[0][0]                    \n",
      "__________________________________________________________________________________________________\n",
      "embedding_7 (Embedding)         (None, None, 128)    76800       input_17[0][0]                   \n",
      "__________________________________________________________________________________________________\n",
      "lstm_14 (LSTM)                  [(None, 50, 256), (N 525312      lstm_13[0][0]                    \n",
      "__________________________________________________________________________________________________\n",
      "lstm_15 (LSTM)                  [(None, None, 256),  394240      embedding_7[0][0]                \n",
      "                                                                 lstm_14[0][1]                    \n",
      "                                                                 lstm_14[0][2]                    \n",
      "__________________________________________________________________________________________________\n",
      "dense_6 (Dense)                 (None, None, 600)    154200      lstm_15[0][0]                    \n",
      "==================================================================================================\n",
      "Total params: 2,838,104\n",
      "Trainable params: 2,838,104\n",
      "Non-trainable params: 0\n",
      "__________________________________________________________________________________________________\n"
     ]
    }
   ],
   "source": [
    "# 디코더의 출력층\n",
    "decoder_softmax_layer = Dense(tar_vocab, activation = 'softmax')\n",
    "decoder_softmax_outputs = decoder_softmax_layer(decoder_outputs) \n",
    "\n",
    "# 모델 정의\n",
    "model = Model([encoder_inputs, decoder_inputs], decoder_softmax_outputs)\n",
    "model.summary()"
   ]
  },
  {
   "cell_type": "code",
   "execution_count": 142,
   "metadata": {},
   "outputs": [],
   "source": [
    "#urllib.request.urlretrieve(\"https://raw.githubusercontent.com/thushv89/attention_keras/master/src/layers/attention.py\", filename=\"attention.py\")\n",
    "from attention import AttentionLayer"
   ]
  },
  {
   "cell_type": "code",
   "execution_count": 143,
   "metadata": {},
   "outputs": [
    {
     "name": "stdout",
     "output_type": "stream",
     "text": [
      "WARNING:tensorflow:AutoGraph could not transform <bound method AttentionLayer.call of <attention.AttentionLayer object at 0x000001FC8B550288>> and will run it as-is.\n",
      "Please report this to the TensorFlow team. When filing the bug, set the verbosity to 10 (on Linux, `export AUTOGRAPH_VERBOSITY=10`) and attach the full output.\n",
      "Cause: No module named 'tensorflow_core.estimator'\n"
     ]
    },
    {
     "name": "stderr",
     "output_type": "stream",
     "text": [
      "WARNING:tensorflow:AutoGraph could not transform <bound method AttentionLayer.call of <attention.AttentionLayer object at 0x000001FC8B550288>> and will run it as-is.\n",
      "Please report this to the TensorFlow team. When filing the bug, set the verbosity to 10 (on Linux, `export AUTOGRAPH_VERBOSITY=10`) and attach the full output.\n",
      "Cause: No module named 'tensorflow_core.estimator'\n"
     ]
    },
    {
     "name": "stdout",
     "output_type": "stream",
     "text": [
      "WARNING: AutoGraph could not transform <bound method AttentionLayer.call of <attention.AttentionLayer object at 0x000001FC8B550288>> and will run it as-is.\n",
      "Please report this to the TensorFlow team. When filing the bug, set the verbosity to 10 (on Linux, `export AUTOGRAPH_VERBOSITY=10`) and attach the full output.\n",
      "Cause: No module named 'tensorflow_core.estimator'\n",
      "Model: \"model_13\"\n",
      "__________________________________________________________________________________________________\n",
      "Layer (type)                    Output Shape         Param #     Connected to                     \n",
      "==================================================================================================\n",
      "input_16 (InputLayer)           [(None, 50)]         0                                            \n",
      "__________________________________________________________________________________________________\n",
      "embedding_6 (Embedding)         (None, 50, 128)      768000      input_16[0][0]                   \n",
      "__________________________________________________________________________________________________\n",
      "lstm_12 (LSTM)                  [(None, 50, 256), (N 394240      embedding_6[0][0]                \n",
      "__________________________________________________________________________________________________\n",
      "input_17 (InputLayer)           [(None, None)]       0                                            \n",
      "__________________________________________________________________________________________________\n",
      "lstm_13 (LSTM)                  [(None, 50, 256), (N 525312      lstm_12[0][0]                    \n",
      "__________________________________________________________________________________________________\n",
      "embedding_7 (Embedding)         (None, None, 128)    76800       input_17[0][0]                   \n",
      "__________________________________________________________________________________________________\n",
      "lstm_14 (LSTM)                  [(None, 50, 256), (N 525312      lstm_13[0][0]                    \n",
      "__________________________________________________________________________________________________\n",
      "lstm_15 (LSTM)                  [(None, None, 256),  394240      embedding_7[0][0]                \n",
      "                                                                 lstm_14[0][1]                    \n",
      "                                                                 lstm_14[0][2]                    \n",
      "__________________________________________________________________________________________________\n",
      "attention_layer (AttentionLayer ((None, None, 256),  131328      lstm_14[0][0]                    \n",
      "                                                                 lstm_15[0][0]                    \n",
      "__________________________________________________________________________________________________\n",
      "concat_layer (Concatenate)      (None, None, 512)    0           lstm_15[0][0]                    \n",
      "                                                                 attention_layer[0][0]            \n",
      "__________________________________________________________________________________________________\n",
      "dense_7 (Dense)                 (None, None, 600)    307800      concat_layer[0][0]               \n",
      "==================================================================================================\n",
      "Total params: 3,123,032\n",
      "Trainable params: 3,123,032\n",
      "Non-trainable params: 0\n",
      "__________________________________________________________________________________________________\n"
     ]
    }
   ],
   "source": [
    "# 어텐션 층(어텐션 함수)\n",
    "attn_layer = AttentionLayer(name='attention_layer')\n",
    "attn_out, attn_states = attn_layer([encoder_outputs, decoder_outputs])\n",
    "\n",
    "# 어텐션의 결과와 디코더의 hidden state들을 연결\n",
    "decoder_concat_input = Concatenate(axis = -1, name='concat_layer')([decoder_outputs, attn_out])\n",
    "\n",
    "# 디코더의 출력층\n",
    "decoder_softmax_layer = Dense(tar_vocab, activation='softmax')\n",
    "decoder_softmax_outputs = decoder_softmax_layer(decoder_concat_input)\n",
    "\n",
    "# 모델 정의\n",
    "model = Model([encoder_inputs, decoder_inputs], decoder_softmax_outputs)\n",
    "model.summary()"
   ]
  },
  {
   "cell_type": "code",
   "execution_count": 144,
   "metadata": {},
   "outputs": [],
   "source": [
    "model.compile(optimizer='rmsprop', loss='sparse_categorical_crossentropy')"
   ]
  },
  {
   "cell_type": "code",
   "execution_count": 145,
   "metadata": {},
   "outputs": [
    {
     "name": "stdout",
     "output_type": "stream",
     "text": [
      "Train on 96 samples, validate on 2 samples\n",
      "Epoch 1/50\n",
      "96/96 [==============================] - 50s 521ms/sample - loss: 5.8158 - val_loss: 5.5542\n",
      "Epoch 2/50\n",
      "96/96 [==============================] - 40s 420ms/sample - loss: 5.2818 - val_loss: 5.7258\n",
      "Epoch 3/50\n",
      "96/96 [==============================] - 40s 421ms/sample - loss: 5.0032 - val_loss: 5.3767\n",
      "Epoch 4/50\n",
      "96/96 [==============================] - 40s 421ms/sample - loss: 4.7923 - val_loss: 5.2933\n",
      "Epoch 5/50\n",
      "96/96 [==============================] - 41s 422ms/sample - loss: 4.7268 - val_loss: 5.3977\n",
      "Epoch 6/50\n",
      "96/96 [==============================] - 41s 428ms/sample - loss: 4.5618 - val_loss: 5.7843\n",
      "Epoch 7/50\n",
      "96/96 [==============================] - 41s 425ms/sample - loss: 4.3941 - val_loss: 5.1142\n",
      "Epoch 8/50\n",
      "96/96 [==============================] - 42s 436ms/sample - loss: 4.2711 - val_loss: 4.7553\n",
      "Epoch 9/50\n",
      "96/96 [==============================] - 41s 424ms/sample - loss: 4.1053 - val_loss: 4.4547\n",
      "Epoch 10/50\n",
      "96/96 [==============================] - 41s 427ms/sample - loss: 4.1451 - val_loss: 4.3405\n",
      "Epoch 11/50\n",
      "96/96 [==============================] - 41s 425ms/sample - loss: 3.9872 - val_loss: 5.2422\n",
      "Epoch 12/50\n",
      "96/96 [==============================] - 41s 423ms/sample - loss: 3.8098 - val_loss: 4.3689\n",
      "Epoch 13/50\n",
      "96/96 [==============================] - 41s 427ms/sample - loss: 3.6777 - val_loss: 4.2614\n",
      "Epoch 14/50\n",
      "96/96 [==============================] - 41s 424ms/sample - loss: 3.5713 - val_loss: 3.9998\n",
      "Epoch 15/50\n",
      "96/96 [==============================] - 42s 432ms/sample - loss: 3.4102 - val_loss: 4.3242\n",
      "Epoch 16/50\n",
      "96/96 [==============================] - 41s 426ms/sample - loss: 3.5843 - val_loss: 5.1340\n",
      "Epoch 17/50\n",
      "96/96 [==============================] - 41s 425ms/sample - loss: 3.8220 - val_loss: 4.2455\n",
      "Epoch 00017: early stopping\n"
     ]
    }
   ],
   "source": [
    "es = EarlyStopping(monitor='loss', mode='min', verbose=1, patience = 2)\n",
    "history = model.fit(x = [encoder_input_train, decoder_input_train], y = decoder_target_train,\n",
    "                    validation_data = ([encoder_input_test, decoder_input_test], decoder_target_test),\n",
    "                    batch_size = 2, callbacks=[es], epochs = 50)"
   ]
  },
  {
   "cell_type": "code",
   "execution_count": 146,
   "metadata": {},
   "outputs": [
    {
     "data": {
      "image/png": "[encoded data removed]",
      "text/plain": [
       "<Figure size 432x288 with 1 Axes>"
      ]
     },
     "metadata": {
      "needs_background": "light"
     },
     "output_type": "display_data"
    }
   ],
   "source": [
    "plt.plot(history.history['loss'], label='train')\n",
    "plt.plot(history.history['val_loss'], label='test')\n",
    "plt.legend()\n",
    "plt.show()"
   ]
  },
  {
   "cell_type": "code",
   "execution_count": null,
   "metadata": {},
   "outputs": [],
   "source": []
  },
  {
   "cell_type": "code",
   "execution_count": 147,
   "metadata": {},
   "outputs": [],
   "source": [
    "src_index_to_word = src_tokenizer.index_word # 원문 단어 집합에서 정수 -> 단어를 얻음\n",
    "tar_word_to_index = tar_tokenizer.word_index # 요약 단어 집합에서 단어 -> 정수를 얻음\n",
    "tar_index_to_word = tar_tokenizer.index_word # 요약 단어 집합에서 정수 -> 단어를 얻음"
   ]
  },
  {
   "cell_type": "code",
   "execution_count": 148,
   "metadata": {},
   "outputs": [],
   "source": [
    "# 인코더 설계\n",
    "encoder_model = Model(inputs=encoder_inputs, outputs=[encoder_outputs, state_h, state_c])"
   ]
  },
  {
   "cell_type": "code",
   "execution_count": 149,
   "metadata": {},
   "outputs": [],
   "source": [
    "# 이전 시점의 상태들을 저장하는 텐서\n",
    "decoder_state_input_h = Input(shape=(hidden_size,))\n",
    "decoder_state_input_c = Input(shape=(hidden_size,))\n",
    "\n",
    "dec_emb2 = dec_emb_layer(decoder_inputs)\n",
    "# 문장의 다음 단어를 예측하기 위해서 초기 상태(initial_state)를 이전 시점의 상태로 사용. 이는 뒤의 함수 decode_sequence()에 구현\n",
    "# 훈련 과정에서와 달리 LSTM의 리턴하는 은닉 상태와 셀 상태인 state_h와 state_c를 버리지 않음.\n",
    "decoder_outputs2, state_h2, state_c2 = decoder_lstm(dec_emb2, initial_state=[decoder_state_input_h, decoder_state_input_c])"
   ]
  },
  {
   "cell_type": "code",
   "execution_count": 150,
   "metadata": {},
   "outputs": [
    {
     "name": "stdout",
     "output_type": "stream",
     "text": [
      "WARNING:tensorflow:AutoGraph could not transform <bound method AttentionLayer.call of <attention.AttentionLayer object at 0x000001FC8B550288>> and will run it as-is.\n",
      "Please report this to the TensorFlow team. When filing the bug, set the verbosity to 10 (on Linux, `export AUTOGRAPH_VERBOSITY=10`) and attach the full output.\n",
      "Cause: No module named 'tensorflow_core.estimator'\n"
     ]
    },
    {
     "name": "stderr",
     "output_type": "stream",
     "text": [
      "WARNING:tensorflow:AutoGraph could not transform <bound method AttentionLayer.call of <attention.AttentionLayer object at 0x000001FC8B550288>> and will run it as-is.\n",
      "Please report this to the TensorFlow team. When filing the bug, set the verbosity to 10 (on Linux, `export AUTOGRAPH_VERBOSITY=10`) and attach the full output.\n",
      "Cause: No module named 'tensorflow_core.estimator'\n"
     ]
    },
    {
     "name": "stdout",
     "output_type": "stream",
     "text": [
      "WARNING: AutoGraph could not transform <bound method AttentionLayer.call of <attention.AttentionLayer object at 0x000001FC8B550288>> and will run it as-is.\n",
      "Please report this to the TensorFlow team. When filing the bug, set the verbosity to 10 (on Linux, `export AUTOGRAPH_VERBOSITY=10`) and attach the full output.\n",
      "Cause: No module named 'tensorflow_core.estimator'\n"
     ]
    }
   ],
   "source": [
    "# 어텐션 함수\n",
    "decoder_hidden_state_input = Input(shape=(text_max_len, hidden_size))\n",
    "attn_out_inf, attn_states_inf = attn_layer([decoder_hidden_state_input, decoder_outputs2])\n",
    "decoder_inf_concat = Concatenate(axis=-1, name='concat')([decoder_outputs2, attn_out_inf])\n",
    "\n",
    "# 디코더의 출력층\n",
    "decoder_outputs2 = decoder_softmax_layer(decoder_inf_concat) \n",
    "\n",
    "# 최종 디코더 모델\n",
    "decoder_model = Model(\n",
    "    [decoder_inputs] + [decoder_hidden_state_input,decoder_state_input_h, decoder_state_input_c],\n",
    "    [decoder_outputs2] + [state_h2, state_c2])"
   ]
  },
  {
   "cell_type": "code",
   "execution_count": 151,
   "metadata": {},
   "outputs": [],
   "source": [
    "def decode_sequence(input_seq):\n",
    "    # 입력으로부터 인코더의 상태를 얻음\n",
    "    e_out, e_h, e_c = encoder_model.predict(input_seq)\n",
    "\n",
    "     # <SOS>에 해당하는 토큰 생성\n",
    "    target_seq = np.zeros((1,1))\n",
    "    target_seq[0, 0] = tar_word_to_index['sostoken']\n",
    "\n",
    "    stop_condition = False\n",
    "    decoded_sentence = ''\n",
    "    while not stop_condition: # stop_condition이 True가 될 때까지 루프 반복\n",
    "\n",
    "        output_tokens, h, c = decoder_model.predict([target_seq] + [e_out, e_h, e_c])\n",
    "        sampled_token_index = np.argmax(output_tokens[0, -1, :])\n",
    "        sampled_token = tar_index_to_word[sampled_token_index]\n",
    "\n",
    "        if(sampled_token!='eostoken'):\n",
    "            decoded_sentence += ' '+sampled_token\n",
    "\n",
    "        #  <eos>에 도달하거나 최대 길이를 넘으면 중단.\n",
    "        if (sampled_token == 'eostoken'  or len(decoded_sentence.split()) >= (summary_max_len-1)):\n",
    "            stop_condition = True\n",
    "\n",
    "        # 길이가 1인 타겟 시퀀스를 업데이트\n",
    "        target_seq = np.zeros((1,1))\n",
    "        target_seq[0, 0] = sampled_token_index\n",
    "\n",
    "        # 상태를 업데이트 합니다.\n",
    "        e_h, e_c = h, c\n",
    "\n",
    "    return decoded_sentence"
   ]
  },
  {
   "cell_type": "code",
   "execution_count": 152,
   "metadata": {},
   "outputs": [],
   "source": [
    "# 원문의 정수 시퀀스를 텍스트 시퀀스로 변환\n",
    "def seq2text(input_seq):\n",
    "    sentence=''\n",
    "    for i in input_seq:\n",
    "        if(i!=0):\n",
    "            sentence = sentence + src_index_to_word[i]+' '\n",
    "    return sentence\n",
    "\n",
    "# 요약문의 정수 시퀀스를 텍스트 시퀀스로 변환\n",
    "def seq2summary(input_seq):\n",
    "    sentence=''\n",
    "    for i in input_seq:\n",
    "        if((i!=0 and i!=tar_word_to_index['sostoken']) and i!=tar_word_to_index['eostoken']):\n",
    "            sentence = sentence + tar_index_to_word[i] + ' '\n",
    "    return sentence"
   ]
  },
  {
   "cell_type": "code",
   "execution_count": 157,
   "metadata": {},
   "outputs": [
    {
     "name": "stdout",
     "output_type": "stream",
     "text": [
      "원문 :  오갔다 이 날 에디슨 ev 종가 2만원 으로 올해 3월 과 비교 하면 10 배 이상 급등 가격 지난 3분 기 말 기준 에디슨 ev 최대 주주 에너지 솔루션 즈 16 67 에너지 솔루션 즈 의 최대 주주 강 영 권 대표 98 70 출자 자 4 명 포함 다 \n",
      "실제 요약문 : 박자 에디슨 모터 스 ‘ 추가 부실 꺼냈다 \n",
      "예측 요약문 : \n",
      "\n",
      "\n",
      "원문 :  \n",
      "실제 요약문 : 오늘 날씨 7일 동해안 비 또는 눈 \n",
      "예측 요약문 :  인천 의료 원 이재명\n",
      "\n",
      "\n",
      "원문 :  year “ because there were so many orders this year next year s orders could fall by some 25 percent ” said a spokesperson for a shipbuilding company “ but still the number of orders won t be that bad compared to orders received in the past five years ” \n",
      "실제 요약문 : recovery lifts all boats in shipbuilding \n",
      "예측 요약문 :  식\n",
      "\n",
      "\n",
      "원문 :  도입 뜻 같이 하며 다당제 가능한 선거 제 개혁 함께해 나가겠다 고 밝혔습니다 이어 국민 현실 청년 불안한 미래 답 하는 선거 돼야 한다 며 공적 연금 개혁 기후 위기 대응 양극화 불평등 해소 대책 같은 미래 정책 놓고 선의 경쟁 해야 한다 고 덧붙였습니다 사진 국회 사진기 자단 연합뉴스 \n",
      "실제 요약문 : 안철수 양 당 체제 경종 결선투표제 공감 대 \n",
      "예측 요약문 :  개발\n",
      "\n",
      "\n",
      "원문 :  ” 했다 지난달 미래에셋 그룹 전면 적 조직개편 통해 전문 경영인 체제 구축 본격 화했는데 이번 승진 인사 그 연 장선 있다는 것 미래에셋 관계자 “ 앞 증권 외 다른 계 열사 들 전문 경영인 출신 회장 들 독립 적 경영 하는 체제 전환 될 가능성 있다 ” 고 했다 \n",
      "실제 요약문 : 미래에셋 증권 최현 수석 부회장 회장 승진 \n",
      "예측 요약문 :  식 식\n",
      "\n",
      "\n"
     ]
    }
   ],
   "source": [
    "for i in range(0,5):\n",
    "    print(\"원문 : \",seq2text(encoder_input_train[i]))\n",
    "    print(\"실제 요약문 :\",seq2summary(decoder_input_train[i]))\n",
    "    print(\"예측 요약문 :\",decode_sequence(encoder_input_train[i].reshape(1, text_max_len)))\n",
    "    print(\"\\n\")"
   ]
  },
  {
   "cell_type": "markdown",
   "metadata": {},
   "source": [
    "# --------------------------------"
   ]
  },
  {
   "cell_type": "code",
   "execution_count": 4,
   "metadata": {},
   "outputs": [],
   "source": [
    "from konlpy.tag import Okt, Kkma\n",
    "from sklearn.feature_extraction.text import TfidfVectorizer, CountVectorizer\n",
    "from sklearn.preprocessing import normalize"
   ]
  },
  {
   "cell_type": "code",
   "execution_count": 5,
   "metadata": {},
   "outputs": [],
   "source": [
    "df2 = df[df['contents'].str.len() >= 200]"
   ]
  },
  {
   "cell_type": "code",
   "execution_count": 6,
   "metadata": {},
   "outputs": [],
   "source": [
    "kkma = Kkma()\n",
    "\n",
    "def text2sentence (text) :\n",
    "    #print('\\n------------\\n',text,'\\n-------------\\n')\n",
    "    sentence = kkma.sentences(text)\n",
    "    for i in range(len(sentence)):\n",
    "        if len(sentence[i]) <= 10:\n",
    "            #print(sentence[i-1], '  ||  ',sentence[i],'\\n\\n')\n",
    "            sentence[i-1] +=(' '+sentence[i])\n",
    "            sentence[i] = ''\n",
    "    return sentence"
   ]
  },
  {
   "cell_type": "code",
   "execution_count": 9,
   "metadata": {
    "scrolled": true
   },
   "outputs": [
    {
     "name": "stderr",
     "output_type": "stream",
     "text": [
      "c:\\users\\samsung\\appdata\\local\\programs\\python\\python37\\lib\\site-packages\\ipykernel_launcher.py:1: SettingWithCopyWarning: \n",
      "A value is trying to be set on a copy of a slice from a DataFrame.\n",
      "Try using .loc[row_indexer,col_indexer] = value instead\n",
      "\n",
      "See the caveats in the documentation: https://pandas.pydata.org/pandas-docs/stable/user_guide/indexing.html#returning-a-view-versus-a-copy\n",
      "  \"\"\"Entry point for launching an IPython kernel.\n"
     ]
    },
    {
     "data": {
      "text/html": [
       "<div>\n",
       "<style scoped>\n",
       "    .dataframe tbody tr th:only-of-type {\n",
       "        vertical-align: middle;\n",
       "    }\n",
       "\n",
       "    .dataframe tbody tr th {\n",
       "        vertical-align: top;\n",
       "    }\n",
       "\n",
       "    .dataframe thead th {\n",
       "        text-align: right;\n",
       "    }\n",
       "</style>\n",
       "<table border=\"1\" class=\"dataframe\">\n",
       "  <thead>\n",
       "    <tr style=\"text-align: right;\">\n",
       "      <th></th>\n",
       "      <th>title</th>\n",
       "      <th>contents</th>\n",
       "      <th>분야</th>\n",
       "      <th>s1</th>\n",
       "    </tr>\n",
       "  </thead>\n",
       "  <tbody>\n",
       "    <tr>\n",
       "      <th>0</th>\n",
       "      <td>'위안부 다큐' 英감독 \"더 많이 알려져야 하는 보편적 문제\"</td>\n",
       "      <td>기사내용 요약'이용수 할머니 밀착취재 다큐' 낸시 로버츠 英감독이 할머니 \"위안부 ...</td>\n",
       "      <td>정치</td>\n",
       "      <td>[기사내용 요약' 이용수 할머니 밀착 취재 다큐' 낸 시 로버츠 英 감독이 할머니 ...</td>\n",
       "    </tr>\n",
       "    <tr>\n",
       "      <th>1</th>\n",
       "      <td>“조국·이재명 가족이라면?”…이재명 ‘김건희 무혐의’ 비판 댓글 공유</td>\n",
       "      <td>이재명 더불어민주당 대선후보가 6일 서울 여의도 더불어민주당 당사에서 열린 소상공인...</td>\n",
       "      <td>정치</td>\n",
       "      <td>[이재명 더불어 민주당 대선후보가 6일 서울 여의도 더불어 민주당 당사에서 열린 소...</td>\n",
       "    </tr>\n",
       "    <tr>\n",
       "      <th>2</th>\n",
       "      <td>닻 올린 '김종인 원톱' 선대위…\"민생·정의 회복\"</td>\n",
       "      <td>'윤석열 선대위'의 키를 거머쥔 김종인 위원장, 한층 '독해진' 어조로 문재인 정부...</td>\n",
       "      <td>정치</td>\n",
       "      <td>[' 윤석 열 선대 위' 의 키를 거머쥔 김 종인 위원장, 한층 ' 독 해진' 어조...</td>\n",
       "    </tr>\n",
       "    <tr>\n",
       "      <th>3</th>\n",
       "      <td>민주, 개발이익환수법 당론 채택…이재명 \"169석 힘 보여달라\" 편지</td>\n",
       "      <td>민주당이 정책 의원총회를 열어 개발이익환수법을 당론으로 추진하기로 했습니다. 대장동...</td>\n",
       "      <td>정치</td>\n",
       "      <td>[민주당이 정책 의원총회를 열어 개발이익 환 수법을 당론으로 추진하기로 했습니다.,...</td>\n",
       "    </tr>\n",
       "    <tr>\n",
       "      <th>4</th>\n",
       "      <td>김병준 \"자유·민주 죽인 文, 더 한 이재명 막아야…그 국가주의·포퓰리즘 끝은 파멸\"</td>\n",
       "      <td>국힘 선대위 출범식서 연설 \"시장·개인자유 확대 '자유주의 철학'이 사회 문제 해법...</td>\n",
       "      <td>정치</td>\n",
       "      <td>[국 힘 선대 위 출범식서 연설 \" 시장· 개인자유 확대 ' 자유주의 철학' 이 사...</td>\n",
       "    </tr>\n",
       "    <tr>\n",
       "      <th>...</th>\n",
       "      <td>...</td>\n",
       "      <td>...</td>\n",
       "      <td>...</td>\n",
       "      <td>...</td>\n",
       "    </tr>\n",
       "    <tr>\n",
       "      <th>15</th>\n",
       "      <td>임혜숙 장관, OECD 회원국에 '과학기술 기반 미래예측' 제안</td>\n",
       "      <td>임혜숙 과학기술정보통신부 장관이 6일 OECD 과학기술정책위원회 콘퍼런스 고위급회담...</td>\n",
       "      <td>과학</td>\n",
       "      <td>[임 혜숙 과학기술정보통신 부 장관이 6일 OECD 과학기술정책위원회 콘퍼런스 고위...</td>\n",
       "    </tr>\n",
       "    <tr>\n",
       "      <th>16</th>\n",
       "      <td>“초봉 6500만원 준다고 하니…우르르” 난리난 ‘이곳’</td>\n",
       "      <td>김용현 당근마켓 공동대표이런 상황에서 ‘업계 최고 대우’를 내건 당근마켓이 승부수는...</td>\n",
       "      <td>과학</td>\n",
       "      <td>[김용 현 당근 마켓 공동대표 이런 상황에서 ‘ 업계 최고 대우 ’를 내건 당근 마...</td>\n",
       "    </tr>\n",
       "    <tr>\n",
       "      <th>17</th>\n",
       "      <td>임혜숙 장관, “미래 예측을 통한 국가·사회 문제해결” 강조</td>\n",
       "      <td>OECD 과학기술정책위원회 컨퍼런스 고위급 회담 참가임혜숙 과학기술정보통신부 장관이...</td>\n",
       "      <td>과학</td>\n",
       "      <td>[OECD 과학기술정책위원회 컨퍼런스 고위급 회담 참가 임 혜숙 과학기술정보통신 부...</td>\n",
       "    </tr>\n",
       "    <tr>\n",
       "      <th>18</th>\n",
       "      <td>임혜숙 과기장관, OECD 컨퍼런스서 포용적 기술전환 방안 제시</td>\n",
       "      <td>기사내용 요약과기장관, 'OECD 과학기술정책위원회 컨퍼런스' 온라인 참석\"미래 예...</td>\n",
       "      <td>과학</td>\n",
       "      <td>[기사내용 요약 과기장관, 'OECD 과학기술정책위원회 컨퍼런스' 온라인 참석\" 미...</td>\n",
       "    </tr>\n",
       "    <tr>\n",
       "      <th>19</th>\n",
       "      <td>임혜숙 장관 \"포용적 기술 전환, 과학기술 기반의 미래 예측이 필수적\"</td>\n",
       "      <td>OECD 과학기술정책위서 포용적 기술 전환 방안 제시임혜숙 과학기술정보통신부 장관이...</td>\n",
       "      <td>과학</td>\n",
       "      <td>[OECD 과학기술 정책위서 포용적 기술 전환 방안 제시 임 혜숙 과학기술정보통신 ...</td>\n",
       "    </tr>\n",
       "  </tbody>\n",
       "</table>\n",
       "<p>88 rows × 4 columns</p>\n",
       "</div>"
      ],
      "text/plain": [
       "                                              title  \\\n",
       "0                '위안부 다큐' 英감독 \"더 많이 알려져야 하는 보편적 문제\"   \n",
       "1            “조국·이재명 가족이라면?”…이재명 ‘김건희 무혐의’ 비판 댓글 공유   \n",
       "2                      닻 올린 '김종인 원톱' 선대위…\"민생·정의 회복\"   \n",
       "3            민주, 개발이익환수법 당론 채택…이재명 \"169석 힘 보여달라\" 편지   \n",
       "4   김병준 \"자유·민주 죽인 文, 더 한 이재명 막아야…그 국가주의·포퓰리즘 끝은 파멸\"   \n",
       "..                                              ...   \n",
       "15              임혜숙 장관, OECD 회원국에 '과학기술 기반 미래예측' 제안   \n",
       "16                  “초봉 6500만원 준다고 하니…우르르” 난리난 ‘이곳’   \n",
       "17                임혜숙 장관, “미래 예측을 통한 국가·사회 문제해결” 강조   \n",
       "18              임혜숙 과기장관, OECD 컨퍼런스서 포용적 기술전환 방안 제시   \n",
       "19          임혜숙 장관 \"포용적 기술 전환, 과학기술 기반의 미래 예측이 필수적\"   \n",
       "\n",
       "                                             contents  분야  \\\n",
       "0   기사내용 요약'이용수 할머니 밀착취재 다큐' 낸시 로버츠 英감독이 할머니 \"위안부 ...  정치   \n",
       "1   이재명 더불어민주당 대선후보가 6일 서울 여의도 더불어민주당 당사에서 열린 소상공인...  정치   \n",
       "2   '윤석열 선대위'의 키를 거머쥔 김종인 위원장, 한층 '독해진' 어조로 문재인 정부...  정치   \n",
       "3   민주당이 정책 의원총회를 열어 개발이익환수법을 당론으로 추진하기로 했습니다. 대장동...  정치   \n",
       "4   국힘 선대위 출범식서 연설 \"시장·개인자유 확대 '자유주의 철학'이 사회 문제 해법...  정치   \n",
       "..                                                ...  ..   \n",
       "15  임혜숙 과학기술정보통신부 장관이 6일 OECD 과학기술정책위원회 콘퍼런스 고위급회담...  과학   \n",
       "16  김용현 당근마켓 공동대표이런 상황에서 ‘업계 최고 대우’를 내건 당근마켓이 승부수는...  과학   \n",
       "17  OECD 과학기술정책위원회 컨퍼런스 고위급 회담 참가임혜숙 과학기술정보통신부 장관이...  과학   \n",
       "18  기사내용 요약과기장관, 'OECD 과학기술정책위원회 컨퍼런스' 온라인 참석\"미래 예...  과학   \n",
       "19  OECD 과학기술정책위서 포용적 기술 전환 방안 제시임혜숙 과학기술정보통신부 장관이...  과학   \n",
       "\n",
       "                                                   s1  \n",
       "0   [기사내용 요약' 이용수 할머니 밀착 취재 다큐' 낸 시 로버츠 英 감독이 할머니 ...  \n",
       "1   [이재명 더불어 민주당 대선후보가 6일 서울 여의도 더불어 민주당 당사에서 열린 소...  \n",
       "2   [' 윤석 열 선대 위' 의 키를 거머쥔 김 종인 위원장, 한층 ' 독 해진' 어조...  \n",
       "3   [민주당이 정책 의원총회를 열어 개발이익 환 수법을 당론으로 추진하기로 했습니다.,...  \n",
       "4   [국 힘 선대 위 출범식서 연설 \" 시장· 개인자유 확대 ' 자유주의 철학' 이 사...  \n",
       "..                                                ...  \n",
       "15  [임 혜숙 과학기술정보통신 부 장관이 6일 OECD 과학기술정책위원회 콘퍼런스 고위...  \n",
       "16  [김용 현 당근 마켓 공동대표 이런 상황에서 ‘ 업계 최고 대우 ’를 내건 당근 마...  \n",
       "17  [OECD 과학기술정책위원회 컨퍼런스 고위급 회담 참가 임 혜숙 과학기술정보통신 부...  \n",
       "18  [기사내용 요약 과기장관, 'OECD 과학기술정책위원회 컨퍼런스' 온라인 참석\" 미...  \n",
       "19  [OECD 과학기술 정책위서 포용적 기술 전환 방안 제시 임 혜숙 과학기술정보통신 ...  \n",
       "\n",
       "[88 rows x 4 columns]"
      ]
     },
     "execution_count": 9,
     "metadata": {},
     "output_type": "execute_result"
    }
   ],
   "source": [
    "df2['s1'] = df2['contents'].apply(lambda x: text2sentence(x))\n",
    "df2"
   ]
  },
  {
   "cell_type": "code",
   "execution_count": 7,
   "metadata": {},
   "outputs": [
    {
     "data": {
      "text/plain": [
       "\"def cleansing(x):\\n    result = []\\n    for sentence in x:\\n        tokens = okt.nouns(sentence)\\n        for i in tokens :\\n            if i not in stopwords:\\n                result.append(i)\\n    if len(result) >= 3:\\n        return ' '.join(result)\\n    else :\\n        return None\""
      ]
     },
     "execution_count": 7,
     "metadata": {},
     "output_type": "execute_result"
    }
   ],
   "source": [
    "okt =Okt()\n",
    "\n",
    "stopwords = ['머니투데이', '연합뉴스', '데일리', '동아일보', '중앙일보',\n",
    "            '조선일보', '기자']\n",
    "\n",
    "def cleansing(sentences):\n",
    "    nouns = []\n",
    "    for sentence in sentences :\n",
    "        if sentence is not '':\n",
    "            nouns.append(' '.join([noun for noun in okt.nouns(str(sentence))\n",
    "                                  if noun not in stopwords and len(noun) > 1]))\n",
    "    return nouns\n",
    "'''def cleansing(x):\n",
    "    result = []\n",
    "    for sentence in x:\n",
    "        tokens = okt.nouns(sentence)\n",
    "        for i in tokens :\n",
    "            if i not in stopwords:\n",
    "                result.append(i)\n",
    "    if len(result) >= 3:\n",
    "        return ' '.join(result)\n",
    "    else :\n",
    "        return None'''\n"
   ]
  },
  {
   "cell_type": "code",
   "execution_count": 96,
   "metadata": {},
   "outputs": [
    {
     "data": {
      "text/plain": [
       "['OECD 과학기술 정책위서 포용적 기술 전환 방안 제시 임 혜숙 과학기술정보통신 부 장관이 6일 경제협력개발기구 (OECD) 과학기술정책위원회 (CSTP) 콘퍼런스 고위급 회담에 참가했다.',\n",
       " \"( 과기 정통부 제공) © 뉴스 1( 서울= 뉴스 1) 윤지원 기자 = 임 혜숙 과학기술정보통신 부 장관이 ' 미래 예측을 통한 국가· 사회 문제 해결' 을 포용적 기술 전환을 위한 핵심 정책 방향으로 제시했다.6\",\n",
       " '일 임 장관은 경제협력개발기구 (OECD) 과학기술정책위원회 (CSTP) 콘퍼런스 고위급 회담에 참가해 이 같은 우리나라의 제 5차 과학기술 기본계획 수립 방향을 소개했다.',\n",
       " '임 장관은 이번 회담에서 \" 사회 전 영역에서 복잡성, 다양성, 불확실성이 높아 지는 상황에서 과학기술 기반의 미래 예측이 필수적\" 이라며 \" 바람직한 정책 성과 목표 설정, 정책 수단의 다양화, 폭넓은 주체의 참여 보장이 중요하다\" 고 강조했다.',\n",
       " '이날 콘퍼런스는 포용적 기술 전환을 주제로 개최됐다.',\n",
       " '우리나라를 비롯해 이탈리아, 포르투 갈, 영국 등 유럽연합 (EU) 장· 차관급 인사와 연구· 산업· 노동계 대표들이 참석해 기술과 사회가 함께 갈 수 있는 방안을 논의했다.',\n",
       " '과기 정통부 관계자는 \" 임 장관은 OECD 회원국들이 직면한 도전 과제가 상호 연계돼 있는 만큼 지속적으로 소통하고 협력 하자고 제언했다\" 고 밝혔다.']"
      ]
     },
     "execution_count": 96,
     "metadata": {},
     "output_type": "execute_result"
    }
   ],
   "source": [
    "s1 = df2['s1'].values[87]\n",
    "s1"
   ]
  },
  {
   "cell_type": "code",
   "execution_count": 97,
   "metadata": {
    "scrolled": true
   },
   "outputs": [
    {
     "data": {
      "text/plain": [
       "['과학기술 정책 위서 용적 기술 전환 방안 제시 혜숙 과학기술 정보 통신 장관 협력 과학기술 정책 위원회 콘퍼런스 고위 회담 참가',\n",
       " '과기 정통부 제공 뉴스 서울 뉴스 윤지 혜숙 과학기술 정보 통신 장관 미래 예측 통한 국가 사회 문제 해결 용적 기술 전환 핵심 정책 방향 제시',\n",
       " '장관 협력 과학기술 정책 위원회 콘퍼런스 고위 회담 참가 우리나라 과학기술 기본 계획 수립 방향 소개',\n",
       " '장관 이번 회담 사회 영역 복잡 다양성 불확실 상황 과학기술 기반 미래 예측 필수 라며 정책 성과 목표 설정 정책 수단 다양 주체 참여 보장 강조',\n",
       " '콘퍼런스 용적 기술 전환 주제 개최',\n",
       " '우리나라 비롯 이탈리아 포르투 영국 유럽연합 차관 인사 연구 산업 노동계 대표 참석 기술 사회 방안 논의',\n",
       " '과기 정통부 관계자 장관 회원 직면 도전 과제 상호 만큼 지속 소통 협력 하자 제언']"
      ]
     },
     "execution_count": 97,
     "metadata": {},
     "output_type": "execute_result"
    }
   ],
   "source": [
    "cleaned = cleansing(s1)\n",
    "\n",
    "'''for i in df['s1']:\n",
    "    sentence = cleansing(i)\n",
    "    if sentence is not None:\n",
    "        cleaned.append(cleansing(i))'''\n",
    "cleaned"
   ]
  },
  {
   "cell_type": "code",
   "execution_count": 98,
   "metadata": {},
   "outputs": [],
   "source": [
    "tfd = TfidfVectorizer()\n",
    "cnt_vec = CountVectorizer()\n",
    "graph_sentence = []"
   ]
  },
  {
   "cell_type": "code",
   "execution_count": 99,
   "metadata": {},
   "outputs": [],
   "source": [
    "def mk_sentGraph(x):\n",
    "    tfd_mat = tfd.fit_transform(x).toarray()\n",
    "    gs = np.dot(tfd_mat, tfd_mat.T)\n",
    "    return gs\n",
    "\n",
    "sent_graph = mk_sentGraph(cleaned)"
   ]
  },
  {
   "cell_type": "code",
   "execution_count": 100,
   "metadata": {},
   "outputs": [],
   "source": [
    "def mk_wordsGraph(x):\n",
    "    cnt_vec_mat = normalize(cnt_vec.fit_transform(x).toarray().astype(float), axis =0)\n",
    "    voca = cnt_vec.vocabulary_\n",
    "    return np.dot(cnt_vec_mat.T, cnt_vec_mat), {voca[word] : word for word in voca}\n",
    "\n",
    "words_graph, idx2word = mk_wordsGraph(cleaned)"
   ]
  },
  {
   "cell_type": "code",
   "execution_count": 101,
   "metadata": {
    "collapsed": true
   },
   "outputs": [
    {
     "data": {
      "text/plain": [
       "{6: '과학기술',\n",
       " 57: '정책',\n",
       " 47: '위서',\n",
       " 45: '용적',\n",
       " 11: '기술',\n",
       " 55: '전환',\n",
       " 24: '방안',\n",
       " 60: '제시',\n",
       " 79: '혜숙',\n",
       " 56: '정보',\n",
       " 71: '통신',\n",
       " 54: '장관',\n",
       " 78: '협력',\n",
       " 48: '위원회',\n",
       " 70: '콘퍼런스',\n",
       " 3: '고위',\n",
       " 80: '회담',\n",
       " 67: '참가',\n",
       " 4: '과기',\n",
       " 58: '정통부',\n",
       " 59: '제공',\n",
       " 14: '뉴스',\n",
       " 34: '서울',\n",
       " 50: '윤지',\n",
       " 23: '미래',\n",
       " 44: '예측',\n",
       " 72: '통한',\n",
       " 8: '국가',\n",
       " 30: '사회',\n",
       " 22: '문제',\n",
       " 76: '해결',\n",
       " 77: '핵심',\n",
       " 25: '방향',\n",
       " 46: '우리나라',\n",
       " 10: '기본',\n",
       " 2: '계획',\n",
       " 40: '수립',\n",
       " 37: '소개',\n",
       " 51: '이번',\n",
       " 43: '영역',\n",
       " 27: '복잡',\n",
       " 16: '다양성',\n",
       " 28: '불확실',\n",
       " 33: '상황',\n",
       " 9: '기반',\n",
       " 74: '필수',\n",
       " 19: '라며',\n",
       " 36: '성과',\n",
       " 21: '목표',\n",
       " 35: '설정',\n",
       " 39: '수단',\n",
       " 15: '다양',\n",
       " 63: '주체',\n",
       " 69: '참여',\n",
       " 26: '보장',\n",
       " 0: '강조',\n",
       " 62: '주제',\n",
       " 1: '개최',\n",
       " 29: '비롯',\n",
       " 52: '이탈리아',\n",
       " 73: '포르투',\n",
       " 42: '영국',\n",
       " 49: '유럽연합',\n",
       " 66: '차관',\n",
       " 53: '인사',\n",
       " 41: '연구',\n",
       " 31: '산업',\n",
       " 12: '노동계',\n",
       " 17: '대표',\n",
       " 68: '참석',\n",
       " 13: '논의',\n",
       " 7: '관계자',\n",
       " 81: '회원',\n",
       " 65: '직면',\n",
       " 18: '도전',\n",
       " 5: '과제',\n",
       " 32: '상호',\n",
       " 20: '만큼',\n",
       " 64: '지속',\n",
       " 38: '소통',\n",
       " 75: '하자',\n",
       " 61: '제언'}"
      ]
     },
     "execution_count": 101,
     "metadata": {},
     "output_type": "execute_result"
    }
   ],
   "source": [
    "idx2word"
   ]
  },
  {
   "cell_type": "code",
   "execution_count": 102,
   "metadata": {},
   "outputs": [
    {
     "data": {
      "text/plain": [
       "{0: 1.9224294879409698,\n",
       " 1: 1.3075117733964707,\n",
       " 2: 1.3647076577550172,\n",
       " 3: 0.7702527081230867,\n",
       " 4: 0.7679751982149844,\n",
       " 5: 0.4412256306702476,\n",
       " 6: 0.4258975438992224}"
      ]
     },
     "execution_count": 102,
     "metadata": {},
     "output_type": "execute_result"
    }
   ],
   "source": [
    "def get_ranks(graph, d= 0.85) :\n",
    "    A = graph\n",
    "    matrix_size = A.shape[0]\n",
    "    for id in range(matrix_size):\n",
    "        A[id,id] = 0\n",
    "        link_sum = np.sum(A[:,id])\n",
    "        if link_sum != 0:\n",
    "            A[:,id] /= link_sum\n",
    "        A[:,id] *= -d\n",
    "        A[id,id] = 1\n",
    "    B = (1-d) * np.ones((matrix_size,1))\n",
    "    ranks = np.linalg.solve(A,B)\n",
    "    return {idx: r[0] for idx, r in enumerate(ranks)}\n",
    "\n",
    "sent_rank_idx = get_ranks(sent_graph)\n",
    "sent_rank_idx"
   ]
  },
  {
   "cell_type": "code",
   "execution_count": 103,
   "metadata": {},
   "outputs": [],
   "source": [
    "sorted_sent_rank_idx = sorted(sent_rank_idx,\n",
    "                              key = lambda x : sent_rank_idx[x], reverse = True)"
   ]
  },
  {
   "cell_type": "code",
   "execution_count": 104,
   "metadata": {},
   "outputs": [],
   "source": [
    "word_rank_idx = get_ranks(words_graph)\n",
    "sorted_word_rank_idx = sorted(word_rank_idx,\n",
    "                              key = lambda x : word_rank_idx[x], reverse = True)"
   ]
  },
  {
   "cell_type": "code",
   "execution_count": 105,
   "metadata": {},
   "outputs": [],
   "source": [
    "def summarize(sentences):\n",
    "    sent_num =3\n",
    "    summary = []\n",
    "    index = []\n",
    "    for idx in sorted_sent_rank_idx[:sent_num] :\n",
    "        index.append(idx)\n",
    "    index.sort()\n",
    "    \n",
    "    for idx in index:\n",
    "        summary.append(sentences[idx])\n",
    "    for text in summary:\n",
    "        print(text)\n",
    "        print('\\n')"
   ]
  },
  {
   "cell_type": "code",
   "execution_count": 106,
   "metadata": {},
   "outputs": [
    {
     "name": "stdout",
     "output_type": "stream",
     "text": [
      "OECD 과학기술 정책위서 포용적 기술 전환 방안 제시 임 혜숙 과학기술정보통신 부 장관이 6일 경제협력개발기구 (OECD) 과학기술정책위원회 (CSTP) 콘퍼런스 고위급 회담에 참가했다.\n",
      "\n",
      "\n",
      "( 과기 정통부 제공) © 뉴스 1( 서울= 뉴스 1) 윤지원 기자 = 임 혜숙 과학기술정보통신 부 장관이 ' 미래 예측을 통한 국가· 사회 문제 해결' 을 포용적 기술 전환을 위한 핵심 정책 방향으로 제시했다.6\n",
      "\n",
      "\n",
      "일 임 장관은 경제협력개발기구 (OECD) 과학기술정책위원회 (CSTP) 콘퍼런스 고위급 회담에 참가해 이 같은 우리나라의 제 5차 과학기술 기본계획 수립 방향을 소개했다.\n",
      "\n",
      "\n"
     ]
    }
   ],
   "source": [
    "summarize(s1)"
   ]
  },
  {
   "cell_type": "code",
   "execution_count": null,
   "metadata": {},
   "outputs": [],
   "source": []
  },
  {
   "cell_type": "code",
   "execution_count": null,
   "metadata": {},
   "outputs": [],
   "source": []
  }
 ],
 "metadata": {
  "kernelspec": {
   "display_name": "Python 3",
   "language": "python",
   "name": "python3"
  },
  "language_info": {
   "codemirror_mode": {
    "name": "ipython",
    "version": 3
   },
   "file_extension": ".py",
   "mimetype": "text/x-python",
   "name": "python",
   "nbconvert_exporter": "python",
   "pygments_lexer": "ipython3",
   "version": "3.7.7"
  }
 },
 "nbformat": 4,
 "nbformat_minor": 4
}
