{
 "cells": [
  {
   "cell_type": "code",
   "execution_count": 1,
   "metadata": {
    "scrolled": false
   },
   "outputs": [
    {
     "name": "stdout",
     "output_type": "stream",
     "text": [
      "----------뉴스 기사 스크랩을 실행합니다----------\n",
      "\n",
      "정치 뉴스 기사 크롤링 완료\n",
      "경제 뉴스 기사 크롤링 완료\n",
      "사회 뉴스 기사 크롤링 완료\n",
      "생활 뉴스 기사 크롤링 완료\n",
      "세계 뉴스 기사 크롤링 완료\n",
      "과학 뉴스 기사 크롤링 완료\n"
     ]
    },
    {
     "name": "stderr",
     "output_type": "stream",
     "text": [
      "\r",
      "  0%|                                                                                          | 0/104 [00:00<?, ?it/s]"
     ]
    },
    {
     "name": "stdout",
     "output_type": "stream",
     "text": [
      "----------뉴스 데이터를 처리 중입니다----------\n"
     ]
    },
    {
     "name": "stderr",
     "output_type": "stream",
     "text": [
      "100%|████████████████████████████████████████████████████████████████████████████████| 104/104 [01:05<00:00,  1.58it/s]\n"
     ]
    },
    {
     "name": "stdout",
     "output_type": "stream",
     "text": [
      "----------뉴스 기사 요약문이 완성되었습니다 ----------\n"
     ]
    }
   ],
   "source": [
    "import time \n",
    "import datetime \n",
    "import warnings\n",
    "warnings.filterwarnings('ignore')\n",
    "\n",
    "import scraper \n",
    "import summarizer\n",
    "import interface\n",
    "\n",
    "start_time = time.time() \n",
    "\n",
    "# 웹 스크래핑\n",
    "scraps = scraper.news_scraper()\n",
    "news_list = scraps.start()\n",
    "\n",
    "# 뉴스 요약문 생성\n",
    "news = summarizer.news_summarizing(news_list)\n",
    "df1, df2 = news.give_df()\n",
    "df2['요약문'] = df2['s1'].apply(lambda x: summarizer.smz.run(x))\n",
    "summarized_news = summarizer.smz.concatDF(df1,df2)"
   ]
  },
  {
   "cell_type": "code",
   "execution_count": 2,
   "metadata": {
    "scrolled": false
   },
   "outputs": [],
   "source": [
    "# 뉴스 매니저 실행\n",
    "news_manager = interface.Manager(summarized_news)\n",
    "news_manager.run()"
   ]
  },
  {
   "cell_type": "code",
   "execution_count": 3,
   "metadata": {},
   "outputs": [
    {
     "name": "stdout",
     "output_type": "stream",
     "text": [
      "0:03:06\n"
     ]
    }
   ],
   "source": [
    "# 전체 시간\n",
    "end_time = time.time() \n",
    "sec = (end_time - start_time) \n",
    "total_time = str(datetime.timedelta(seconds=sec)).split(\".\")[0]\n",
    "print(total_time)"
   ]
  },
  {
   "cell_type": "markdown",
   "metadata": {},
   "source": [
    "## test codes"
   ]
  },
  {
   "cell_type": "markdown",
   "metadata": {},
   "source": [
    "## ---------------------------------------------------------------"
   ]
  }
 ],
 "metadata": {
  "kernelspec": {
   "display_name": "Python 3",
   "language": "python",
   "name": "python3"
  },
  "language_info": {
   "codemirror_mode": {
    "name": "ipython",
    "version": 3
   },
   "file_extension": ".py",
   "mimetype": "text/x-python",
   "name": "python",
   "nbconvert_exporter": "python",
   "pygments_lexer": "ipython3",
   "version": "3.7.7"
  }
 },
 "nbformat": 4,
 "nbformat_minor": 4
}
